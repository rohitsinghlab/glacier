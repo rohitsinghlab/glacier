{
 "cells": [
  {
   "cell_type": "code",
   "execution_count": 5,
   "id": "518e86ab-759c-412a-86c0-4697f310e250",
   "metadata": {},
   "outputs": [],
   "source": [
    "import sys\n",
    "sys.path.append('../velorama')\n",
    "import gaston_dynamics as gd\n",
    "import scanpy as sc\n",
    "import numpy as np \n",
    "import pandas as pd"
   ]
  },
  {
   "cell_type": "code",
   "execution_count": 6,
   "id": "878dfa36-db2d-4b34-a320-fdfc3153ff47",
   "metadata": {
    "tags": []
   },
   "outputs": [],
   "source": [
    "import os\n",
    "from collections import defaultdict\n",
    "import pandas as pd\n",
    "import scanpy as sc\n",
    "import numpy as np\n",
    "import matplotlib.pyplot as plt\n",
    "from glmpca import glmpca\n",
    "from itertools import combinations\n",
    "import torch\n",
    "import gaston\n",
    "import seaborn as sns\n",
    "import math"
   ]
  },
  {
   "cell_type": "code",
   "execution_count": 7,
   "id": "1211cd21-0429-44a9-a7f8-9796bd8d34b0",
   "metadata": {},
   "outputs": [],
   "source": [
    "from gaston import neural_net,cluster_plotting, dp_related, segmented_fit\n",
    "from gaston import binning_and_plotting, isodepth_scaling, run_slurm_scripts\n",
    "from gaston import spatial_gene_classification, plot_cell_types, filter_genes, process_NN_output"
   ]
  },
  {
   "cell_type": "code",
   "execution_count": 8,
   "id": "adc5f831-8e4d-436c-8b19-59dd85633600",
   "metadata": {},
   "outputs": [
    {
     "name": "stdout",
     "output_type": "stream",
     "text": [
      "       ligand receptor species\n",
      "3398     Wnt3     Fzd6   Mouse\n",
      "3399     Wnt3     Egfr   Mouse\n",
      "3400     Wnt3     Fzd2   Mouse\n",
      "3401     Wnt3     Lrp5   Mouse\n",
      "3402     Wnt3     Fzd1   Mouse\n",
      "...       ...      ...     ...\n",
      "5422     Nrg4    Erbb4   Mouse\n",
      "5423  Adamts3    Ccbe1   Mouse\n",
      "5424     Bmp6   Acvr2b   Mouse\n",
      "5425    Pdgfd   Pdgfra   Mouse\n",
      "5426     Apoe    Vldlr   Mouse\n",
      "\n",
      "[2029 rows x 3 columns]\n"
     ]
    }
   ],
   "source": [
    "df = pd.read_csv('lrpairs.csv') #for ligand receptor analysis\n",
    "\n",
    "df = df.loc[:, ~df.columns.str.contains('^Unnamed')]\n",
    "\n",
    "\n",
    "# Filtering the DataFrame\n",
    "mouse_df = df[df['species'] == 'Mouse']\n",
    "\n",
    "# Display the filtered data\n",
    "print(mouse_df)"
   ]
  },
  {
   "cell_type": "code",
   "execution_count": 13,
   "id": "d4743c8d-e118-49a1-8d5d-c053b1ae127e",
   "metadata": {},
   "outputs": [],
   "source": [
    "CDATADIR = \"./\"\n",
    "# counts_mat=np.load(CDATADIR + 'cerebellum_data/cerebellum_counts_mat.npy') # N x G UMI count array\n",
    "coords_mat=np.load(CDATADIR + 'cerebellum_data/cerebellum_coords_mat.npy') # N x 2 spatial coordinate matrix\n",
    "gene_labels=np.load(CDATADIR + 'cerebellum_data/cerebellum_gene_labels.npy', allow_pickle=True) # list of names for G genes\n",
    "# print(counts_mat.shape)"
   ]
  },
  {
   "cell_type": "code",
   "execution_count": 16,
   "id": "052aff52-e4ee-40d5-9707-86f9d4d9dabb",
   "metadata": {},
   "outputs": [],
   "source": [
    "A=np.load(CDATADIR + 'cerebellum_data/F_glmpca_penalty_10_rep1.npy') # GLM-PCA results used in manuscript\n",
    "S=coords_mat\n",
    "\n",
    "# z-score normalize S and A\n",
    "S_torch, A_torch = neural_net.load_rescale_input_data(S,A)"
   ]
  },
  {
   "cell_type": "code",
   "execution_count": 17,
   "id": "c429db3d-f856-4609-8020-5970f5e18f16",
   "metadata": {},
   "outputs": [
    {
     "name": "stdout",
     "output_type": "stream",
     "text": [
      "\n",
      "best model: ./cerebellum_data/reproduce_cerebellum/seed19\n"
     ]
    }
   ],
   "source": [
    "# gaston_model, A, S = gd.gaston_model('tutorial_outputs', S_torch, A_torch)\n",
    "gaston_model, A, S= process_NN_output.process_files(CDATADIR + 'cerebellum_data/reproduce_cerebellum')"
   ]
  },
  {
   "cell_type": "code",
   "execution_count": 18,
   "id": "04edece3-5e40-4432-bac8-39f57bba364e",
   "metadata": {},
   "outputs": [],
   "source": [
    "cell_type_mod_df = gd.create_cell_type_df(CDATADIR + 'cerebellum_data/cell_type_df.csv')"
   ]
  },
  {
   "cell_type": "code",
   "execution_count": 23,
   "id": "30d0b231-89db-4ba3-aba2-ace50af18b4f",
   "metadata": {},
   "outputs": [],
   "source": [
    "flip = False #True for inverted isodepth\n",
    "gaston_isodepth, gaston_labels = gd.calculate_isodepth(gaston_model, A, S, coords_mat, num_layers=4,\n",
    "    scale_factor=64/100, flip=flip, adjust = True)"
   ]
  },
  {
   "cell_type": "code",
   "execution_count": 24,
   "id": "f8f26090-5226-42e6-bda5-af09521b8b5a",
   "metadata": {},
   "outputs": [
    {
     "ename": "NameError",
     "evalue": "name 'counts_mat' is not defined",
     "output_type": "error",
     "traceback": [
      "\u001b[0;31m---------------------------------------------------------------------------\u001b[0m",
      "\u001b[0;31mNameError\u001b[0m                                 Traceback (most recent call last)",
      "Cell \u001b[0;32mIn[24], line 5\u001b[0m\n\u001b[1;32m      3\u001b[0m ct_list\u001b[38;5;241m=\u001b[39m [\u001b[38;5;124m'\u001b[39m\u001b[38;5;124mOligodendrocytes\u001b[39m\u001b[38;5;124m'\u001b[39m, \u001b[38;5;124m'\u001b[39m\u001b[38;5;124mGranule\u001b[39m\u001b[38;5;124m'\u001b[39m, \u001b[38;5;124m'\u001b[39m\u001b[38;5;124mBergmann\u001b[39m\u001b[38;5;124m'\u001b[39m, \u001b[38;5;124m'\u001b[39m\u001b[38;5;124mPurkinje\u001b[39m\u001b[38;5;124m'\u001b[39m, \u001b[38;5;124m'\u001b[39m\u001b[38;5;124mMLI1\u001b[39m\u001b[38;5;124m'\u001b[39m, \u001b[38;5;124m'\u001b[39m\u001b[38;5;124mMLI2\u001b[39m\u001b[38;5;124m'\u001b[39m]\n\u001b[1;32m      4\u001b[0m cell_type_df\u001b[38;5;241m=\u001b[39mpd\u001b[38;5;241m.\u001b[39mread_csv(CDATADIR \u001b[38;5;241m+\u001b[39m \u001b[38;5;124m'\u001b[39m\u001b[38;5;124mcerebellum_data/cell_type_df.csv\u001b[39m\u001b[38;5;124m'\u001b[39m, index_col\u001b[38;5;241m=\u001b[39m\u001b[38;5;241m0\u001b[39m)\n\u001b[0;32m----> 5\u001b[0m pw_fit_dict, binning_output \u001b[38;5;241m=\u001b[39m gd\u001b[38;5;241m.\u001b[39mbinning_output(\u001b[43mcounts_mat\u001b[49m, gene_labels, gaston_labels, gaston_isodepth, cell_type_df, ct_list, num_bins_per_domain\u001b[38;5;241m=\u001b[39m[\u001b[38;5;241m20\u001b[39m,\u001b[38;5;241m40\u001b[39m,\u001b[38;5;241m20\u001b[39m,\u001b[38;5;241m20\u001b[39m])\n",
      "\u001b[0;31mNameError\u001b[0m: name 'counts_mat' is not defined"
     ]
    }
   ],
   "source": [
    "import warnings\n",
    "warnings.filterwarnings(\"ignore\")\n",
    "ct_list= ['Oligodendrocytes', 'Granule', 'Bergmann', 'Purkinje', 'MLI1', 'MLI2']\n",
    "cell_type_df=pd.read_csv(CDATADIR + 'cerebellum_data/cell_type_df.csv', index_col=0)\n",
    "pw_fit_dict, binning_output = gd.binning_output(counts_mat, gene_labels, gaston_labels, gaston_isodepth, cell_type_df, ct_list, num_bins_per_domain=[20,40,20,20])"
   ]
  },
  {
   "cell_type": "code",
   "execution_count": null,
   "id": "017ddc71-e53a-4b0b-80b5-8b55a2fd5bb5",
   "metadata": {},
   "outputs": [],
   "source": [
    "#CREATE DATASETS"
   ]
  },
  {
   "cell_type": "code",
   "execution_count": 21,
   "id": "99b0c047-aa33-4b8a-8d17-a4c0ba24321f",
   "metadata": {},
   "outputs": [
    {
     "name": "stdout",
     "output_type": "stream",
     "text": [
      "(0.0, 95.02807)\n"
     ]
    },
    {
     "ename": "NameError",
     "evalue": "name 'counts_mat' is not defined",
     "output_type": "error",
     "traceback": [
      "\u001b[0;31m---------------------------------------------------------------------------\u001b[0m",
      "\u001b[0;31mNameError\u001b[0m                                 Traceback (most recent call last)",
      "Cell \u001b[0;32mIn[21], line 6\u001b[0m\n\u001b[1;32m      4\u001b[0m \u001b[38;5;28mprint\u001b[39m((\u001b[38;5;28mmin\u001b[39m(gaston_isodepth_l), \u001b[38;5;28mmax\u001b[39m(gaston_isodepth_l)))\n\u001b[1;32m      5\u001b[0m coords_mat_l \u001b[38;5;241m=\u001b[39m coords_mat[(gaston_labels \u001b[38;5;241m==\u001b[39m l), :]\n\u001b[0;32m----> 6\u001b[0m counts_mat_l\u001b[38;5;241m=\u001b[39m\u001b[43mcounts_mat\u001b[49m[(gaston_labels \u001b[38;5;241m==\u001b[39m l), :]\n\u001b[1;32m      7\u001b[0m df \u001b[38;5;241m=\u001b[39m pd\u001b[38;5;241m.\u001b[39mDataFrame(counts_mat_l, columns\u001b[38;5;241m=\u001b[39mgene_labels)\n\u001b[1;32m      8\u001b[0m adata\u001b[38;5;241m=\u001b[39msc\u001b[38;5;241m.\u001b[39mAnnData(df)\n",
      "\u001b[0;31mNameError\u001b[0m: name 'counts_mat' is not defined"
     ]
    }
   ],
   "source": [
    "#Iterate over all layers\n",
    "for l in range(4):\n",
    "    gaston_isodepth_l=gaston_isodepth[(gaston_labels == l)]\n",
    "    print((min(gaston_isodepth_l), max(gaston_isodepth_l)))\n",
    "    coords_mat_l = coords_mat[(gaston_labels == l), :]\n",
    "    counts_mat_l=counts_mat[(gaston_labels == l), :]\n",
    "    df = pd.DataFrame(counts_mat_l, columns=gene_labels)\n",
    "    adata=sc.AnnData(df)\n",
    "    adata.obsm[\"coords\"] = coords_mat_l\n",
    "    dag_adjacency_matrix = gd.construct_dag(adata, gaston_isodepth_l, coords_mat_l, n_neighbors=7, plot=False)\n",
    "    gd.plot_spatial_dag(dag_adjacency_matrix, coords_mat_l, gaston_isodepth_l, legend = True)\n",
    "\n",
    "    adata_tf = adata.copy()\n",
    "    adata_lr = adata.copy()\n",
    "    gd.create_tf_targets(adata_tf, pw_fit_dict, binning_output, q=0.9, file = 'transcription_factors.txt')\n",
    "    gd.create_lr_targets(adata_lr, pw_fit_dict, binning_output, q=0.9)\n"
   ]
  },
  {
   "cell_type": "code",
   "execution_count": 22,
   "id": "347853a6-86ce-4e10-b041-f2935f14d33f",
   "metadata": {},
   "outputs": [
    {
     "ename": "NameError",
     "evalue": "name 'boundaries' is not defined",
     "output_type": "error",
     "traceback": [
      "\u001b[0;31m---------------------------------------------------------------------------\u001b[0m",
      "\u001b[0;31mNameError\u001b[0m                                 Traceback (most recent call last)",
      "Cell \u001b[0;32mIn[22], line 7\u001b[0m\n\u001b[1;32m      5\u001b[0m     boundaries \u001b[38;5;241m=\u001b[39m [\u001b[38;5;241m180.79575\u001b[39m, \u001b[38;5;241m370.451\u001b[39m, \u001b[38;5;241m455.95197\u001b[39m] \u001b[38;5;66;03m#boundaries between inverted isodepth layers\u001b[39;00m\n\u001b[1;32m      6\u001b[0m \u001b[38;5;28;01mfor\u001b[39;00m l \u001b[38;5;129;01min\u001b[39;00m \u001b[38;5;28mrange\u001b[39m(\u001b[38;5;241m3\u001b[39m):\n\u001b[0;32m----> 7\u001b[0m     bound \u001b[38;5;241m=\u001b[39m \u001b[43mboundaries\u001b[49m[l]\n\u001b[1;32m      8\u001b[0m     lower \u001b[38;5;241m=\u001b[39m bound \u001b[38;5;241m-\u001b[39m \u001b[38;5;241m50\u001b[39m\n\u001b[1;32m      9\u001b[0m     upper \u001b[38;5;241m=\u001b[39m bound \u001b[38;5;241m+\u001b[39m \u001b[38;5;241m50\u001b[39m\n",
      "\u001b[0;31mNameError\u001b[0m: name 'boundaries' is not defined"
     ]
    }
   ],
   "source": [
    "#Iterate over boundaries\n",
    "\n",
    "# boundaries = [95.02807, 180.52618, 370.18195]\n",
    "if flip:\n",
    "    boundaries = [180.79575, 370.451, 455.95197] #boundaries between inverted isodepth layers\n",
    "for l in range(3):\n",
    "    bound = boundaries[l]\n",
    "    lower = bound - 50\n",
    "    upper = bound + 50\n",
    "    gaston_isodepth_l=gaston_isodepth[(gaston_isodepth >= lower) & (gaston_isodepth <  upper)]\n",
    "\n",
    "    coords_mat_l = coords_mat[(gaston_isodepth >= lower) & (gaston_isodepth <= upper), :]\n",
    "    counts_mat_l=counts_mat[(gaston_isodepth >= lower) & (gaston_isodepth <= upper), :]\n",
    "    df = pd.DataFrame(counts_mat_l, columns=gene_labels)\n",
    "    adata.obsm[\"coords\"] = coords_mat_l\n",
    "    dag_adjacency_matrix = gd.construct_dag(adata, gaston_isodepth_l, coords_mat_l, n_neighbors=7, plot=False)\n",
    "    gd.plot_spatial_dag(dag_adjacency_matrix, coords_mat_l, gaston_isodepth_l, legend = True)\n",
    "    \n",
    "    adata_tf = adata.copy()\n",
    "    adata_lr = adata.copy()\n",
    "    \n",
    "    gd.create_tf_targets(adata_tf, pw_fit_dict, binning_output, q=0.9, file = 'transcription_factors.txt')\n",
    "    gd.create_lr_targets(adata_lr, pw_fit_dict, binning_output, q=0.9)\n"
   ]
  },
  {
   "cell_type": "code",
   "execution_count": null,
   "id": "de549307",
   "metadata": {},
   "outputs": [],
   "source": []
  }
 ],
 "metadata": {
  "kernelspec": {
   "display_name": "test1",
   "language": "python",
   "name": "python3"
  },
  "language_info": {
   "codemirror_mode": {
    "name": "ipython",
    "version": 3
   },
   "file_extension": ".py",
   "mimetype": "text/x-python",
   "name": "python",
   "nbconvert_exporter": "python",
   "pygments_lexer": "ipython3",
   "version": "3.9.18"
  }
 },
 "nbformat": 4,
 "nbformat_minor": 5
}
